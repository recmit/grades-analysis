{
 "cells": [
  {
   "cell_type": "code",
   "execution_count": 1,
   "metadata": {
    "tags": []
   },
   "outputs": [],
   "source": [
    "import numpy as np\n",
    "import pandas as pd"
   ]
  },
  {
   "cell_type": "markdown",
   "metadata": {
    "tags": []
   },
   "source": [
    "## Extract scores\n",
    "\n",
    "We used Gradescope for all homework and exams. Gradescope lets you export all grades in one large CSV which contains plenty of metadata such as submission times.\n",
    "\n",
    "In this notebook we extract the student grades from the CSV in preparation for the statistical analysis performed on a separate notebook. We also shuffle the group and section numbers to preserve the students' anonymity.\n",
    "\n",
    "The original CSV has been removed before uploading to a public GitHub repository, also for anonymity."
   ]
  },
  {
   "cell_type": "code",
   "execution_count": 2,
   "metadata": {},
   "outputs": [],
   "source": [
    "grades_list = []\n",
    "\n",
    "n_hw = 6 #number of homeworks\n",
    "n_qz = 6 #number of quizzes\n",
    "sections = [10, 14, 15]\n",
    "\n",
    "hw_list = [f\"Homework {k+1}\" for k in range(n_hw)]\n",
    "qz_list = [f\"Quiz {k+1}\" for k in range(n_qz)]\n",
    "cols = hw_list + qz_list + [\"Final Exam\"]\n",
    "\n",
    "rename = {\n",
    "    \"Homework #5\": \"Homework 5\",\n",
    "    \"Quiz #2\": \"Quiz 2\",\n",
    "    \"Assignment 1\": \"Homework 1\",\n",
    "    \"Assignment 2\": \"Homework 2\",\n",
    "    \"Assignment 3\": \"Homework 3\",\n",
    "    \"Assignment 4\": \"Homework 4\",\n",
    "    \"Assignment 5\": \"Homework 5\",\n",
    "    \"Assignment 6\": \"Homework 6\",\n",
    "}\n",
    "\n",
    "students_dropped = [] # Taken out for anonymity\n",
    "\n",
    "\n",
    "for n in sections:\n",
    "    grades = (pd.read_csv(f\"./data/section_{n}_grades.csv\")\n",
    "               .rename(columns=rename)\n",
    "               .fillna(0)\n",
    "               .set_index('Email'))\n",
    "    groups = (pd.read_csv(f'./data/section{n}groups.csv')\n",
    "                .set_index('Email'))\n",
    "    grades = grades[cols]\n",
    "    groups = groups['Group']\n",
    "    grades['Section number'] = f'Section {n}'\n",
    "    keep = [email for email in grades.index if email not in students_dropped]\n",
    "    grades = (pd.merge(grades, groups, on='Email')\n",
    "               .loc[keep])\n",
    "    grades_list.append(grades)\n",
    "    \n",
    "all_grades = pd.concat(grades_list) # More efficient to concatenate all at once (in this case speed is not an issue but this is good practice)"
   ]
  },
  {
   "cell_type": "markdown",
   "metadata": {},
   "source": [
    "Now we will compute the final score. The lowest score in both quizzes and homeworks are dropped."
   ]
  },
  {
   "cell_type": "code",
   "execution_count": 3,
   "metadata": {
    "tags": []
   },
   "outputs": [],
   "source": [
    "all_grades['Total'] = all_grades[hw_list].apply(lambda r: r.sum()-r.min(),  axis=1) + all_grades[qz_list].apply(lambda r: r.sum()-r.min(), axis=1) + all_grades['Final Exam']\n",
    "all_grades['Percentage'] = all_grades['Total'] / 5\n",
    "\n",
    "## Some students got an extra \"drop\" (removed for anonymity)\n",
    "# special_cases = []\n",
    "# all_grades.loc[special_cases, 'Total'] = all_grades[hw_list].apply(lambda r: r.sum() - r.nsmallest(2).sum(), axis=1) + all_grades[qz_list].apply(lambda r: r.sum() - r.nsmallest(2).sum(), axis=1) + all_grades['Final Exam']\n",
    "# all_grades.loc[special_cases, 'Percentage'] = all_grades.loc[special_cases, 'Total'] / 4.6"
   ]
  },
  {
   "cell_type": "markdown",
   "metadata": {},
   "source": [
    "In the following cell I permute the group names to anonymize the data."
   ]
  },
  {
   "cell_type": "code",
   "execution_count": 4,
   "metadata": {},
   "outputs": [],
   "source": [
    "# Removed the group comprised of the students who were in China and\n",
    "# had their own group (for time zone reasons), since that group was not random\n",
    "all_grades_anonymized = all_grades.loc[~(all_grades['Group']=='China'), ['Section number', 'Group', 'Percentage']].copy()\n",
    "\n",
    "# Shuffle group numbers\n",
    "for n in sections:\n",
    "    this_section = all_grades_anonymized['Section number'] == f'Section {n}'\n",
    "    groups = all_grades_anonymized.loc[this_section, 'Group'].unique()\n",
    "    all_grades_anonymized.loc[this_section, 'Group'] = all_grades_anonymized.loc[this_section, 'Group'].replace(groups, np.random.permutation(groups))\n",
    "\n",
    "# Shuffle students (doesn't affect group membership)\n",
    "all_grades_anonymized = all_grades_anonymized.sample(frac=1).reset_index(drop=True)\n",
    "\n",
    "# Rename sections\n",
    "sections = all_grades_anonymized['Section number'].unique()\n",
    "shuffled_sections = np.random.permutation(sections)\n",
    "all_grades_anonymized['Section number'] = all_grades_anonymized['Section number'].replace(shuffled_sections, [1, 2, 3])"
   ]
  },
  {
   "cell_type": "code",
   "execution_count": 5,
   "metadata": {},
   "outputs": [],
   "source": [
    "# Drop the one group with only 2 students\n",
    "# to_drop = ....\n",
    "# all_grades_anonymized = all_grades_anonymized[~to_drop].copy()"
   ]
  }
 ],
 "metadata": {
  "kernelspec": {
   "display_name": "Python 3 (ipykernel)",
   "language": "python",
   "name": "python3"
  },
  "language_info": {
   "codemirror_mode": {
    "name": "ipython",
    "version": 3
   },
   "file_extension": ".py",
   "mimetype": "text/x-python",
   "name": "python",
   "nbconvert_exporter": "python",
   "pygments_lexer": "ipython3",
   "version": "3.8.12"
  }
 },
 "nbformat": 4,
 "nbformat_minor": 4
}
